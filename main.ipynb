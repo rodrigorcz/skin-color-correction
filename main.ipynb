{
 "cells": [
  {
   "cell_type": "code",
   "execution_count": 352,
   "metadata": {},
   "outputs": [],
   "source": [
    "import cv2 as cv\n",
    "import imageio.v3 as imageio\n",
    "import numpy as np\n",
    "import mediapipe as mp # python 3.8 | 3.11\n",
    "import matplotlib.pyplot as plt\n",
    "import scipy as sp\n",
    "import pandas as pd\n",
    "import math\n",
    "from PIL import Image, ImageDraw"
   ]
  },
  {
   "cell_type": "code",
   "execution_count": 353,
   "metadata": {},
   "outputs": [],
   "source": [
    "# regiões de interesse\n",
    "forehead = [10,338,297,332,298,293,334,296,336,9,107,66,105,63,68,103,67,109,10]\n",
    "left_cheek= [116,117,118,119,100,142,203,206,216,192,213,147,123,116]\n",
    "right_cheek = [345,346,347,348,329,371,423,426,436,416,433,376,352,345]\n",
    "\n",
    "DESIRED_HEIGHT = 600\n",
    "DESIRED_WIDTH = 600\n",
    "\n",
    "def resize_and_show(image):\n",
    "    h, w = image.shape[:2]\n",
    "    if h < w:\n",
    "      img = cv.resize(image, (DESIRED_WIDTH, math.floor(h/(w/DESIRED_WIDTH))))\n",
    "    else:\n",
    "      img = cv.resize(image, (math.floor(w/(h/DESIRED_HEIGHT)), DESIRED_HEIGHT))\n",
    "      \n",
    "    cv.imshow('output',img)\n",
    "    cv.waitKey(0) \n",
    "    cv.destroyAllWindows()\n",
    "\n",
    "def replace_black_with_nan(image):\n",
    "    image = image.astype(np.float32)\n",
    "    \n",
    "    mask = np.all(image == [0, 0, 0], axis=-1)\n",
    "    \n",
    "    image[mask] = np.nan\n",
    "    \n",
    "    return image"
   ]
  },
  {
   "cell_type": "code",
   "execution_count": 354,
   "metadata": {},
   "outputs": [],
   "source": [
    "def region_of_interest_segmentation(roi, info, img):\n",
    "    imArray = np.asarray(img)\n",
    "    \n",
    "    polygon = []\n",
    "    for i in range(len(roi)):\n",
    "        idx_s = roi[i]\n",
    "        start_point = (info[idx_s][3], info[idx_s][4])\n",
    "        polygon.append(start_point)\n",
    "    \n",
    "    maskIm = Image.new('L', (imArray.shape[1], imArray.shape[0]), 0)\n",
    "    ImageDraw.Draw(maskIm).polygon(polygon, outline=1, fill=1)\n",
    "    mask = np.array(maskIm)\n",
    "\n",
    "    newImArray = np.zeros(img.shape, dtype='uint8')\n",
    "    \n",
    "    newImArray[:,:,0] = np.multiply(imArray[:,:,0], mask)\n",
    "    newImArray[:,:,1] = np.multiply(imArray[:,:,1], mask)\n",
    "    newImArray[:,:,2] = np.multiply(imArray[:,:,2], mask)\n",
    "\n",
    "    return newImArray, mask\n"
   ]
  },
  {
   "cell_type": "code",
   "execution_count": 355,
   "metadata": {},
   "outputs": [],
   "source": [
    "\n",
    "def segmentation(image):\n",
    "    mp_face_mesh = mp.solutions.face_mesh\n",
    "    face_mesh = mp_face_mesh.FaceMesh(static_image_mode=True, max_num_faces = 1, min_detection_confidence=0.5)\n",
    "\n",
    "    results = face_mesh.process(cv.cvtColor(image, cv.COLOR_BGR2RGB))\n",
    "    landmarks = results.multi_face_landmarks[0]\n",
    "\n",
    "    shape_a = image.shape[1] \n",
    "    shape_b = image.shape[0] \n",
    "    info = [] \n",
    "\n",
    "    for landmark in landmarks.landmark:\n",
    "        x = landmark.x\n",
    "        y = landmark.y\n",
    "        z = landmark.z\n",
    "\n",
    "        relative_x = int(shape_a * x)\n",
    "        relative_y = int(shape_b * y)\n",
    "\n",
    "        info.append([x,y,z,relative_x,relative_y])\n",
    "\n",
    "    img1,_ = region_of_interest_segmentation(forehead, info, image)\n",
    "    img2,_ = region_of_interest_segmentation(left_cheek, info, image)\n",
    "    img3,_ = region_of_interest_segmentation(right_cheek, info, image)\n",
    "\n",
    "    regions_interest = np.maximum(np.maximum(img1, img2), img3)\n",
    "    \n",
    "    \n",
    "    return regions_interest\n"
   ]
  },
  {
   "cell_type": "code",
   "execution_count": 356,
   "metadata": {},
   "outputs": [],
   "source": [
    "def colour_transfer_idt(i0, i1, bins=300, n_rot=10, relaxation=1):\n",
    "\n",
    "    n_dims = i0.shape[1]\n",
    "    \n",
    "    #i0 = replace_black_with_nan(i0)\n",
    "    #i1 = replace_black_with_nan(i1)\n",
    "    \n",
    "    d0 = i0.T\n",
    "    d1 = i1.T\n",
    "    \n",
    "    for i in range(n_rot):\n",
    "        r = sp.stats.special_ortho_group.rvs(n_dims).astype(np.float32)\n",
    "        \n",
    "        d0r = np.dot(r, d0)\n",
    "        d1r = np.dot(r, d1)\n",
    "        d_r = np.empty_like(d0)\n",
    "        \n",
    "        for j in range(n_dims):\n",
    "            \n",
    "            lo = min(d0r[j].min(), d1r[j].min())\n",
    "            hi = max(d0r[j].max(), d1r[j].max())\n",
    "            \n",
    "            p0r, edges = np.histogram(d0r[j], bins=bins, range=[lo, hi])\n",
    "            p1r, _ = np.histogram(d1r[j], bins=bins, range=[lo, hi])\n",
    "            \n",
    "            cp0r = p0r.cumsum().astype(np.float32)\n",
    "            cp0r /= cp0r[-1]\n",
    "            \n",
    "            cp1r = p1r.cumsum().astype(np.float32)\n",
    "            cp1r /= cp1r[-1]\n",
    "            \n",
    "            f = np.interp(cp0r, cp1r, edges[1:])\n",
    "        \n",
    "            d_r[j] = np.interp(d0r[j], edges[1:], f, left=lo, right=hi)\n",
    "            \n",
    "        d0 = relaxation * np.linalg.solve(r, (d_r - d0r)) + d0\n",
    "    \n",
    "    return d0.T"
   ]
  },
  {
   "cell_type": "code",
   "execution_count": 357,
   "metadata": {},
   "outputs": [
    {
     "name": "stderr",
     "output_type": "stream",
     "text": [
      "I0000 00:00:1716083805.671203  384018 gl_context_egl.cc:85] Successfully initialized EGL. Major : 1 Minor: 5\n",
      "I0000 00:00:1716083805.672573  425100 gl_context.cc:357] GL version: 3.2 (OpenGL ES 3.2 Mesa 23.3.6), renderer: AMD Radeon RX 5500 XT (radeonsi, navi14, LLVM 17.0.6, DRM 3.57, 6.8.8-200.fc39.x86_64)\n",
      "I0000 00:00:1716083805.974774  384018 gl_context_egl.cc:85] Successfully initialized EGL. Major : 1 Minor: 5\n",
      "I0000 00:00:1716083805.976089  425108 gl_context.cc:357] GL version: 3.2 (OpenGL ES 3.2 Mesa 23.3.6), renderer: AMD Radeon RX 5500 XT (radeonsi, navi14, LLVM 17.0.6, DRM 3.57, 6.8.8-200.fc39.x86_64)\n",
      "Clipping input data to the valid range for imshow with RGB data ([0..1] for floats or [0..255] for integers).\n"
     ]
    },
    {
     "data": {
      "image/png": "[encoded data removed]",
      "text/plain": [
       "<Figure size 1000x600 with 1 Axes>"
      ]
     },
     "metadata": {},
     "output_type": "display_data"
    }
   ],
   "source": [
    "# google monk skin tone examples\n",
    "path = \"img/input.jpg\"\n",
    "img_input = cv.imread(path)\n",
    "\n",
    "path = \"img/target.jpg\"\n",
    "img_target = cv.imread(path)\n",
    "\n",
    "roi_input = cv.cvtColor(segmentation(img_input), cv.COLOR_BGR2RGB)\n",
    "roi_target = cv.cvtColor(segmentation(img_target), cv.COLOR_BGR2RGB)\n",
    "\n",
    "df_roi_ipt = pd.DataFrame(roi_input.reshape(-1, roi_input.shape[-1]), columns=['r', 'g', 'b'])\n",
    "df_roi_tgt = pd.DataFrame(roi_target.reshape(-1, roi_target.shape[-1]), columns=['r', 'g', 'b'])\n",
    "\n",
    "a_input = df_roi_ipt.values\n",
    "a_target = df_roi_tgt.values\n",
    "\n",
    "np.random.seed(42)\n",
    "\n",
    "a_result = colour_transfer_idt(a_input, a_target, bins=300, n_rot=20, relaxation=1)\n",
    "\n",
    "df_result = pd.DataFrame(a_result, columns=['r', 'g', 'b'])\n",
    "img_output = a_result.reshape(roi_input.shape)\n",
    "\n",
    "resize_and_show(cv.cvtColor(roi_input, cv.COLOR_RGB2BGR))\n",
    "resize_and_show(cv.cvtColor(img_output, cv.COLOR_RGB2BGR))\n",
    "\n",
    "fig, ax = plt.subplots(figsize=(10, 6))\n",
    "ax.imshow(img_output)\n",
    "ax.axis('off')\n",
    "\n",
    "plt.show()\n"
   ]
  },
  {
   "cell_type": "code",
   "execution_count": null,
   "metadata": {},
   "outputs": [],
   "source": []
  }
 ],
 "metadata": {
  "kernelspec": {
   "display_name": "Python 3",
   "language": "python",
   "name": "python3"
  },
  "language_info": {
   "codemirror_mode": {
    "name": "ipython",
    "version": 3
   },
   "file_extension": ".py",
   "mimetype": "text/x-python",
   "name": "python",
   "nbconvert_exporter": "python",
   "pygments_lexer": "ipython3",
   "version": "3.11.9"
  }
 },
 "nbformat": 4,
 "nbformat_minor": 2
}
